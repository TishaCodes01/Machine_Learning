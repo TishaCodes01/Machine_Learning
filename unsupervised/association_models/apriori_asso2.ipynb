{
 "cells": [
  {
   "cell_type": "code",
   "execution_count": 2,
   "metadata": {},
   "outputs": [
    {
     "name": "stdout",
     "output_type": "stream",
     "text": [
      "One-Hot Encoded DataFrame:\n",
      "                 0      1      2      3      4      5      6      7      8  \\\n",
      "0     False  False  False  False  False  False  False  False  False  False   \n",
      "1      True  False   True  False  False  False  False  False  False  False   \n",
      "2      True  False  False   True  False  False  False  False  False  False   \n",
      "3      True  False  False  False   True  False  False  False  False  False   \n",
      "4      True  False  False  False  False   True  False  False  False  False   \n",
      "...     ...    ...    ...    ...    ...    ...    ...    ...    ...    ...   \n",
      "7213  False  False  False  False  False  False  False  False  False  False   \n",
      "7214  False  False  False  False  False  False  False  False  False  False   \n",
      "7215  False  False  False  False  False  False  False  False  False  False   \n",
      "7216  False  False  False  False  False  False  False  False  False  False   \n",
      "7217  False  False  False  False  False  False  False  False  False  False   \n",
      "\n",
      "      ...      a      c      d      e      h      m      n      t      u  \\\n",
      "0     ...  False   True  False   True   True  False   True   True   True   \n",
      "1     ...   True  False   True   True  False   True   True  False  False   \n",
      "2     ...   True  False   True   True  False   True   True  False  False   \n",
      "3     ...   True  False   True   True  False   True   True  False  False   \n",
      "4     ...   True  False   True   True  False   True   True  False  False   \n",
      "...   ...    ...    ...    ...    ...    ...    ...    ...    ...    ...   \n",
      "7213  ...  False  False  False  False  False  False  False  False  False   \n",
      "7214  ...  False  False  False  False  False  False  False  False  False   \n",
      "7215  ...  False  False  False  False  False  False  False  False  False   \n",
      "7216  ...  False  False  False  False  False  False  False  False  False   \n",
      "7217  ...  False  False  False  False  False  False  False  False  False   \n",
      "\n",
      "          y  \n",
      "0      True  \n",
      "1     False  \n",
      "2     False  \n",
      "3     False  \n",
      "4     False  \n",
      "...     ...  \n",
      "7213  False  \n",
      "7214  False  \n",
      "7215  False  \n",
      "7216  False  \n",
      "7217  False  \n",
      "\n",
      "[7218 rows x 23 columns]\n",
      "\n",
      "Frequent Itemsets:\n",
      "Empty DataFrame\n",
      "Columns: [support, itemsets]\n",
      "Index: []\n"
     ]
    },
    {
     "ename": "TypeError",
     "evalue": "association_rules() missing 1 required positional argument: 'num_itemsets'",
     "output_type": "error",
     "traceback": [
      "\u001b[1;31m---------------------------------------------------------------------------\u001b[0m",
      "\u001b[1;31mTypeError\u001b[0m                                 Traceback (most recent call last)",
      "Cell \u001b[1;32mIn[2], line 25\u001b[0m\n\u001b[0;32m     22\u001b[0m \u001b[38;5;28mprint\u001b[39m(frequent_itemsets)\n\u001b[0;32m     24\u001b[0m \u001b[38;5;66;03m# Step 3: Generate Association Rules\u001b[39;00m\n\u001b[1;32m---> 25\u001b[0m rules \u001b[38;5;241m=\u001b[39m association_rules(frequent_itemsets, metric\u001b[38;5;241m=\u001b[39m\u001b[38;5;124m\"\u001b[39m\u001b[38;5;124mlift\u001b[39m\u001b[38;5;124m\"\u001b[39m, min_threshold\u001b[38;5;241m=\u001b[39m\u001b[38;5;241m1\u001b[39m)\n\u001b[0;32m     26\u001b[0m \u001b[38;5;28mprint\u001b[39m(\u001b[38;5;124m\"\u001b[39m\u001b[38;5;130;01m\\n\u001b[39;00m\u001b[38;5;124mAssociation Rules:\u001b[39m\u001b[38;5;124m\"\u001b[39m)\n\u001b[0;32m     27\u001b[0m \u001b[38;5;28mprint\u001b[39m(rules)\n",
      "\u001b[1;31mTypeError\u001b[0m: association_rules() missing 1 required positional argument: 'num_itemsets'"
     ]
    }
   ],
   "source": [
    "# Import necessary libraries\n",
    "from mlxtend.frequent_patterns import apriori\n",
    "from mlxtend.frequent_patterns import association_rules\n",
    "import pandas as pd\n",
    "\n",
    "# Example dataset (Market Basket Data)\n",
    "dataset = pd.read_csv('BigBasket.csv')\n",
    "\n",
    "# Step 1: Convert dataset into a DataFrame\n",
    "# Create a one-hot encoded DataFrame\n",
    "from mlxtend.preprocessing import TransactionEncoder\n",
    "te = TransactionEncoder()\n",
    "te_array = te.fit(dataset).transform(dataset)\n",
    "df = pd.DataFrame(te_array, columns=te.columns_)\n",
    "\n",
    "print(\"One-Hot Encoded DataFrame:\")\n",
    "print(df)\n",
    "\n",
    "# Step 2: Apply the Apriori Algorithm\n",
    "frequent_itemsets = apriori(df, min_support=0.003, use_colnames=True)\n",
    "print(\"\\nFrequent Itemsets:\")\n",
    "print(frequent_itemsets)\n",
    "\n",
    "# Step 3: Generate Association Rules\n",
    "rules = association_rules(frequent_itemsets, metric=\"lift\", min_threshold=1)\n",
    "print(\"\\nAssociation Rules:\")\n",
    "print(rules)\n",
    "\n",
    "# Step 4: Filter Rules (Optional)\n",
    "filtered_rules = rules[(rules['confidence'] >= 0.2) & (rules['lift'] >= 3)]\n",
    "print(\"\\nFiltered Rules:\")\n",
    "print(filtered_rules)\n"
   ]
  },
  {
   "cell_type": "code",
   "execution_count": null,
   "metadata": {},
   "outputs": [],
   "source": []
  }
 ],
 "metadata": {
  "kernelspec": {
   "display_name": "base",
   "language": "python",
   "name": "python3"
  },
  "language_info": {
   "codemirror_mode": {
    "name": "ipython",
    "version": 3
   },
   "file_extension": ".py",
   "mimetype": "text/x-python",
   "name": "python",
   "nbconvert_exporter": "python",
   "pygments_lexer": "ipython3",
   "version": "3.12.4"
  }
 },
 "nbformat": 4,
 "nbformat_minor": 2
}
