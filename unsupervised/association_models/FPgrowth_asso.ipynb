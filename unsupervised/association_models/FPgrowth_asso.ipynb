{
 "cells": [
  {
   "cell_type": "code",
   "execution_count": 34,
   "metadata": {},
   "outputs": [],
   "source": [
    "import pandas as pd "
   ]
  },
  {
   "cell_type": "code",
   "execution_count": 35,
   "metadata": {},
   "outputs": [],
   "source": [
    "dataset = pd.read_csv('BigBasket.csv')"
   ]
  },
  {
   "cell_type": "code",
   "execution_count": 36,
   "metadata": {},
   "outputs": [],
   "source": [
    "transactions = []\n",
    "\n",
    "for i in range(0, 7218):\n",
    "  transactions.append([str(dataset.values[i,j]) for j in range(0, 20)])"
   ]
  },
  {
   "cell_type": "code",
   "execution_count": 37,
   "metadata": {},
   "outputs": [],
   "source": [
    "from mlxtend.preprocessing import TransactionEncoder\n",
    "# Step 1: Preprocess the data with TransactionEncoder\n",
    "te = TransactionEncoder()\n",
    "te_ary = te.fit(transactions).transform(transactions)\n",
    "\n",
    "# Convert the array to a DataFrame for ease of use\n",
    "df = pd.DataFrame(te_ary, columns=te.columns_)"
   ]
  },
  {
   "cell_type": "code",
   "execution_count": 38,
   "metadata": {},
   "outputs": [],
   "source": [
    "from mlxtend.frequent_patterns import fpgrowth\n",
    "# Step 2: Apply FP-Growth algorithm\n",
    "frequent_itemsets = fpgrowth(df, min_support=0.003, use_colnames=True, max_len=2)"
   ]
  },
  {
   "cell_type": "code",
   "execution_count": 43,
   "metadata": {},
   "outputs": [
    {
     "name": "stdout",
     "output_type": "stream",
     "text": [
      "             antecedents            consequents   support  confidence  \\\n",
      "0              (chicken)  (ginger garlic paste)  0.004572    0.075000   \n",
      "1  (ginger garlic paste)              (chicken)  0.004572    0.292035   \n",
      "2            (olive oil)  (ginger garlic paste)  0.003325    0.050633   \n",
      "3  (ginger garlic paste)            (olive oil)  0.003325    0.212389   \n",
      "4          (spirit fish)           (trolly bag)  0.004156    0.184049   \n",
      "5           (trolly bag)          (spirit fish)  0.004156    0.085960   \n",
      "6                (maggi)                (pasta)  0.003464    0.048356   \n",
      "7                (pasta)                (maggi)  0.003464    0.247525   \n",
      "8                (pasta)             (mushroom)  0.005403    0.386139   \n",
      "9             (mushroom)                (pasta)  0.005403    0.068182   \n",
      "\n",
      "       lift  \n",
      "0  4.790708  \n",
      "1  4.790708  \n",
      "2  3.234233  \n",
      "3  3.234233  \n",
      "4  3.806494  \n",
      "5  3.806494  \n",
      "6  3.455771  \n",
      "7  3.455771  \n",
      "8  4.872637  \n",
      "9  4.872637  \n"
     ]
    }
   ],
   "source": [
    "from mlxtend.frequent_patterns import association_rules\n",
    "# Step 3: Generate association rules\n",
    "rules = association_rules(frequent_itemsets, num_itemsets=5, metric=\"lift\", min_threshold=3)\n",
    "\n",
    "# Extract relevant columns (product1, product2, support, confidence, lift)\n",
    "rules = rules[['antecedents', 'consequents', 'support', 'confidence', 'lift']]\n",
    "\n",
    "# Display the final result\n",
    "print(rules.head(10))"
   ]
  },
  {
   "cell_type": "code",
   "execution_count": null,
   "metadata": {},
   "outputs": [],
   "source": []
  }
 ],
 "metadata": {
  "kernelspec": {
   "display_name": "base",
   "language": "python",
   "name": "python3"
  },
  "language_info": {
   "codemirror_mode": {
    "name": "ipython",
    "version": 3
   },
   "file_extension": ".py",
   "mimetype": "text/x-python",
   "name": "python",
   "nbconvert_exporter": "python",
   "pygments_lexer": "ipython3",
   "version": "3.12.4"
  }
 },
 "nbformat": 4,
 "nbformat_minor": 2
}
