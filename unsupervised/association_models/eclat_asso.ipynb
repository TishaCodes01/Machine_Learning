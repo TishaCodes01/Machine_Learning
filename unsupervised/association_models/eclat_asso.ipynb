{
 "cells": [
  {
   "cell_type": "code",
   "execution_count": 36,
   "metadata": {},
   "outputs": [],
   "source": [
    "import pandas as pd "
   ]
  },
  {
   "cell_type": "code",
   "execution_count": 37,
   "metadata": {},
   "outputs": [],
   "source": [
    "dataset = pd.read_csv('NetflixMovie.csv', header=None, encoding='ISO-8859-1')"
   ]
  },
  {
   "cell_type": "code",
   "execution_count": 38,
   "metadata": {},
   "outputs": [],
   "source": [
    "transactions = []\n",
    "\n",
    "for i in range(0, 7219):\n",
    "  transactions.append([str(dataset.values[i,j]) for j in range(0, 20)])"
   ]
  },
  {
   "cell_type": "code",
   "execution_count": 48,
   "metadata": {},
   "outputs": [],
   "source": [
    "from apyori import apriori\n",
    "movie = apriori(transactions=transactions, min_support=0.003, min_confidence=0.2, min_lift=3, min_length=2, max_length=2)"
   ]
  },
  {
   "cell_type": "code",
   "execution_count": 49,
   "metadata": {},
   "outputs": [],
   "source": [
    "result = list(movie)"
   ]
  },
  {
   "cell_type": "code",
   "execution_count": 50,
   "metadata": {},
   "outputs": [
    {
     "data": {
      "text/plain": [
       "[RelationRecord(items=frozenset({'Billa', 'Saaho'}), support=0.005679456988502563, ordered_statistics=[OrderedStatistic(items_base=frozenset({'Saaho'}), items_add=frozenset({'Billa'}), confidence=0.2949640287769784, lift=3.068220927580702)]),\n",
       " RelationRecord(items=frozenset({'Black Panther', 'Captain America'}), support=0.0034630835295747335, ordered_statistics=[OrderedStatistic(items_base=frozenset({'Captain America'}), items_add=frozenset({'Black Panther'}), confidence=0.26881720430107525, lift=5.560433804726253)]),\n",
       " RelationRecord(items=frozenset({'Cinema Paradiso', 'The Shawshank Redemption'}), support=0.005402410306136584, ordered_statistics=[OrderedStatistic(items_base=frozenset({'Cinema Paradiso'}), items_add=frozenset({'The Shawshank Redemption'}), confidence=0.2635135135135135, lift=3.033977757661968)]),\n",
       " RelationRecord(items=frozenset({'Comedy nights with Kapil', 'Game of thrones'}), support=0.003324560188391744, ordered_statistics=[OrderedStatistic(items_base=frozenset({'Game of thrones'}), items_add=frozenset({'Comedy nights with Kapil'}), confidence=0.21238938053097342, lift=3.227871448532836)]),\n",
       " RelationRecord(items=frozenset({'Comedy nights with Kapil', 'Kanan Gill Comedy'}), support=0.007757307106247403, ordered_statistics=[OrderedStatistic(items_base=frozenset({'Kanan Gill Comedy'}), items_add=frozenset({'Comedy nights with Kapil'}), confidence=0.26540284360189575, lift=4.03356447992018)]),\n",
       " RelationRecord(items=frozenset({'Prision Break', 'Game of thrones'}), support=0.004571270259038648, ordered_statistics=[OrderedStatistic(items_base=frozenset({'Game of thrones'}), items_add=frozenset({'Prision Break'}), confidence=0.29203539823008845, lift=4.791371681415929)]),\n",
       " RelationRecord(items=frozenset({'Harry Potter 1', 'Harry Potter 2'}), support=0.005402410306136584, ordered_statistics=[OrderedStatistic(items_base=frozenset({'Harry Potter 1'}), items_add=frozenset({'Harry Potter 2'}), confidence=0.38613861386138615, lift=4.890411672746222)]),\n",
       " RelationRecord(items=frozenset({'Harry Potter 1', 'The Lord of the rings'}), support=0.0034630835295747335, ordered_statistics=[OrderedStatistic(items_base=frozenset({'Harry Potter 1'}), items_add=frozenset({'The Lord of the rings'}), confidence=0.24752475247524755, lift=3.44957758324095)]),\n",
       " RelationRecord(items=frozenset({'Harry Potter 2', 'crimes of grindelwald'}), support=0.005817980329685552, ordered_statistics=[OrderedStatistic(items_base=frozenset({'crimes of grindelwald'}), items_add=frozenset({'Harry Potter 2'}), confidence=0.3, lift=3.799473684210526)]),\n",
       " RelationRecord(items=frozenset({'Interstellar', 'inception'}), support=0.015930184236043775, ordered_statistics=[OrderedStatistic(items_base=frozenset({'Interstellar'}), items_add=frozenset({'inception'}), confidence=0.3203342618384401, lift=3.2433282415311346)]),\n",
       " RelationRecord(items=frozenset({'The Wolf of Wall Street', 'inception'}), support=0.005402410306136584, ordered_statistics=[OrderedStatistic(items_base=frozenset({'The Wolf of Wall Street'}), items_add=frozenset({'inception'}), confidence=0.3786407766990291, lift=3.833671482454826)])]"
      ]
     },
     "execution_count": 50,
     "metadata": {},
     "output_type": "execute_result"
    }
   ],
   "source": [
    "result"
   ]
  },
  {
   "cell_type": "code",
   "execution_count": 51,
   "metadata": {},
   "outputs": [],
   "source": [
    "def inspect(result):\n",
    "    product1         = [tuple(result[2][0][0])[0] for result in result]\n",
    "    product2         = [tuple(result[2][0][1])[0] for result in result]\n",
    "    supports    = [result[1] for result in result]\n",
    "    return list(zip(product1, product2, supports))\n",
    "DataFrame_intelligence = pd.DataFrame(inspect(result), columns = ['product1', 'product1', 'Support'])"
   ]
  },
  {
   "cell_type": "code",
   "execution_count": 52,
   "metadata": {},
   "outputs": [
    {
     "data": {
      "text/html": [
       "<div>\n",
       "<style scoped>\n",
       "    .dataframe tbody tr th:only-of-type {\n",
       "        vertical-align: middle;\n",
       "    }\n",
       "\n",
       "    .dataframe tbody tr th {\n",
       "        vertical-align: top;\n",
       "    }\n",
       "\n",
       "    .dataframe thead th {\n",
       "        text-align: right;\n",
       "    }\n",
       "</style>\n",
       "<table border=\"1\" class=\"dataframe\">\n",
       "  <thead>\n",
       "    <tr style=\"text-align: right;\">\n",
       "      <th></th>\n",
       "      <th>product1</th>\n",
       "      <th>product1</th>\n",
       "      <th>Support</th>\n",
       "    </tr>\n",
       "  </thead>\n",
       "  <tbody>\n",
       "    <tr>\n",
       "      <th>0</th>\n",
       "      <td>Saaho</td>\n",
       "      <td>Billa</td>\n",
       "      <td>0.005679</td>\n",
       "    </tr>\n",
       "    <tr>\n",
       "      <th>1</th>\n",
       "      <td>Captain America</td>\n",
       "      <td>Black Panther</td>\n",
       "      <td>0.003463</td>\n",
       "    </tr>\n",
       "    <tr>\n",
       "      <th>2</th>\n",
       "      <td>Cinema Paradiso</td>\n",
       "      <td>The Shawshank Redemption</td>\n",
       "      <td>0.005402</td>\n",
       "    </tr>\n",
       "    <tr>\n",
       "      <th>3</th>\n",
       "      <td>Game of thrones</td>\n",
       "      <td>Comedy nights with Kapil</td>\n",
       "      <td>0.003325</td>\n",
       "    </tr>\n",
       "    <tr>\n",
       "      <th>4</th>\n",
       "      <td>Kanan Gill Comedy</td>\n",
       "      <td>Comedy nights with Kapil</td>\n",
       "      <td>0.007757</td>\n",
       "    </tr>\n",
       "    <tr>\n",
       "      <th>5</th>\n",
       "      <td>Game of thrones</td>\n",
       "      <td>Prision Break</td>\n",
       "      <td>0.004571</td>\n",
       "    </tr>\n",
       "    <tr>\n",
       "      <th>6</th>\n",
       "      <td>Harry Potter 1</td>\n",
       "      <td>Harry Potter 2</td>\n",
       "      <td>0.005402</td>\n",
       "    </tr>\n",
       "    <tr>\n",
       "      <th>7</th>\n",
       "      <td>Harry Potter 1</td>\n",
       "      <td>The Lord of the rings</td>\n",
       "      <td>0.003463</td>\n",
       "    </tr>\n",
       "    <tr>\n",
       "      <th>8</th>\n",
       "      <td>crimes of grindelwald</td>\n",
       "      <td>Harry Potter 2</td>\n",
       "      <td>0.005818</td>\n",
       "    </tr>\n",
       "    <tr>\n",
       "      <th>9</th>\n",
       "      <td>Interstellar</td>\n",
       "      <td>inception</td>\n",
       "      <td>0.015930</td>\n",
       "    </tr>\n",
       "    <tr>\n",
       "      <th>10</th>\n",
       "      <td>The Wolf of Wall Street</td>\n",
       "      <td>inception</td>\n",
       "      <td>0.005402</td>\n",
       "    </tr>\n",
       "  </tbody>\n",
       "</table>\n",
       "</div>"
      ],
      "text/plain": [
       "                   product1                  product1   Support\n",
       "0                     Saaho                     Billa  0.005679\n",
       "1           Captain America             Black Panther  0.003463\n",
       "2           Cinema Paradiso  The Shawshank Redemption  0.005402\n",
       "3           Game of thrones  Comedy nights with Kapil  0.003325\n",
       "4         Kanan Gill Comedy  Comedy nights with Kapil  0.007757\n",
       "5           Game of thrones             Prision Break  0.004571\n",
       "6            Harry Potter 1            Harry Potter 2  0.005402\n",
       "7            Harry Potter 1     The Lord of the rings  0.003463\n",
       "8     crimes of grindelwald            Harry Potter 2  0.005818\n",
       "9              Interstellar                 inception  0.015930\n",
       "10  The Wolf of Wall Street                 inception  0.005402"
      ]
     },
     "execution_count": 52,
     "metadata": {},
     "output_type": "execute_result"
    }
   ],
   "source": [
    "DataFrame_intelligence"
   ]
  },
  {
   "cell_type": "code",
   "execution_count": 53,
   "metadata": {},
   "outputs": [
    {
     "data": {
      "text/html": [
       "<div>\n",
       "<style scoped>\n",
       "    .dataframe tbody tr th:only-of-type {\n",
       "        vertical-align: middle;\n",
       "    }\n",
       "\n",
       "    .dataframe tbody tr th {\n",
       "        vertical-align: top;\n",
       "    }\n",
       "\n",
       "    .dataframe thead th {\n",
       "        text-align: right;\n",
       "    }\n",
       "</style>\n",
       "<table border=\"1\" class=\"dataframe\">\n",
       "  <thead>\n",
       "    <tr style=\"text-align: right;\">\n",
       "      <th></th>\n",
       "      <th>product1</th>\n",
       "      <th>product1</th>\n",
       "      <th>Support</th>\n",
       "    </tr>\n",
       "  </thead>\n",
       "  <tbody>\n",
       "    <tr>\n",
       "      <th>9</th>\n",
       "      <td>Interstellar</td>\n",
       "      <td>inception</td>\n",
       "      <td>0.015930</td>\n",
       "    </tr>\n",
       "    <tr>\n",
       "      <th>4</th>\n",
       "      <td>Kanan Gill Comedy</td>\n",
       "      <td>Comedy nights with Kapil</td>\n",
       "      <td>0.007757</td>\n",
       "    </tr>\n",
       "    <tr>\n",
       "      <th>8</th>\n",
       "      <td>crimes of grindelwald</td>\n",
       "      <td>Harry Potter 2</td>\n",
       "      <td>0.005818</td>\n",
       "    </tr>\n",
       "    <tr>\n",
       "      <th>0</th>\n",
       "      <td>Saaho</td>\n",
       "      <td>Billa</td>\n",
       "      <td>0.005679</td>\n",
       "    </tr>\n",
       "    <tr>\n",
       "      <th>2</th>\n",
       "      <td>Cinema Paradiso</td>\n",
       "      <td>The Shawshank Redemption</td>\n",
       "      <td>0.005402</td>\n",
       "    </tr>\n",
       "    <tr>\n",
       "      <th>6</th>\n",
       "      <td>Harry Potter 1</td>\n",
       "      <td>Harry Potter 2</td>\n",
       "      <td>0.005402</td>\n",
       "    </tr>\n",
       "    <tr>\n",
       "      <th>10</th>\n",
       "      <td>The Wolf of Wall Street</td>\n",
       "      <td>inception</td>\n",
       "      <td>0.005402</td>\n",
       "    </tr>\n",
       "    <tr>\n",
       "      <th>5</th>\n",
       "      <td>Game of thrones</td>\n",
       "      <td>Prision Break</td>\n",
       "      <td>0.004571</td>\n",
       "    </tr>\n",
       "    <tr>\n",
       "      <th>1</th>\n",
       "      <td>Captain America</td>\n",
       "      <td>Black Panther</td>\n",
       "      <td>0.003463</td>\n",
       "    </tr>\n",
       "    <tr>\n",
       "      <th>7</th>\n",
       "      <td>Harry Potter 1</td>\n",
       "      <td>The Lord of the rings</td>\n",
       "      <td>0.003463</td>\n",
       "    </tr>\n",
       "    <tr>\n",
       "      <th>3</th>\n",
       "      <td>Game of thrones</td>\n",
       "      <td>Comedy nights with Kapil</td>\n",
       "      <td>0.003325</td>\n",
       "    </tr>\n",
       "  </tbody>\n",
       "</table>\n",
       "</div>"
      ],
      "text/plain": [
       "                   product1                  product1   Support\n",
       "9              Interstellar                 inception  0.015930\n",
       "4         Kanan Gill Comedy  Comedy nights with Kapil  0.007757\n",
       "8     crimes of grindelwald            Harry Potter 2  0.005818\n",
       "0                     Saaho                     Billa  0.005679\n",
       "2           Cinema Paradiso  The Shawshank Redemption  0.005402\n",
       "6            Harry Potter 1            Harry Potter 2  0.005402\n",
       "10  The Wolf of Wall Street                 inception  0.005402\n",
       "5           Game of thrones             Prision Break  0.004571\n",
       "1           Captain America             Black Panther  0.003463\n",
       "7            Harry Potter 1     The Lord of the rings  0.003463\n",
       "3           Game of thrones  Comedy nights with Kapil  0.003325"
      ]
     },
     "execution_count": 53,
     "metadata": {},
     "output_type": "execute_result"
    }
   ],
   "source": [
    "DataFrame_intelligence.sort_values(by='Support', ascending=False)"
   ]
  },
  {
   "cell_type": "code",
   "execution_count": null,
   "metadata": {},
   "outputs": [],
   "source": []
  }
 ],
 "metadata": {
  "kernelspec": {
   "display_name": "base",
   "language": "python",
   "name": "python3"
  },
  "language_info": {
   "codemirror_mode": {
    "name": "ipython",
    "version": 3
   },
   "file_extension": ".py",
   "mimetype": "text/x-python",
   "name": "python",
   "nbconvert_exporter": "python",
   "pygments_lexer": "ipython3",
   "version": "3.12.4"
  }
 },
 "nbformat": 4,
 "nbformat_minor": 2
}
