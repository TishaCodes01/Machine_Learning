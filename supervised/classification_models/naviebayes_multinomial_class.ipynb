{
 "cells": [
  {
   "cell_type": "code",
   "execution_count": 2,
   "metadata": {},
   "outputs": [
    {
     "name": "stdout",
     "output_type": "stream",
     "text": [
      "Accuracy: 66.67%\n",
      "\n",
      "Prediction for custom message: Spam\n"
     ]
    }
   ],
   "source": [
    "import pandas as pd\n",
    "from sklearn.feature_extraction.text import CountVectorizer\n",
    "from sklearn.model_selection import train_test_split\n",
    "from sklearn.naive_bayes import MultinomialNB\n",
    "from sklearn.metrics import accuracy_score\n",
    "\n",
    "data = {\n",
    "    'text': [\n",
    "        'Free money now',\n",
    "        'Call now to claim your prize',\n",
    "        'Meet me at the park',\n",
    "        'Let’s catch up later',\n",
    "        'Win a new car today!',\n",
    "        'Lunch plans?',\n",
    "        'Congratulations! You won a lottery',\n",
    "        'Can you send me the report?',\n",
    "        'Exclusive offer for you',\n",
    "        'Are you coming to the meeting?'\n",
    "    ],\n",
    "    'label': ['spam', 'spam', 'not spam', 'not spam', 'spam', 'not spam', 'spam', 'not spam', 'spam', 'not spam']\n",
    "}\n",
    "\n",
    "df = pd.DataFrame(data)\n",
    "\n",
    "df['label'] = df['label'].map({'spam': 1, 'not spam': 0})\n",
    "\n",
    "X = df['text']\n",
    "y = df['label']\n",
    "\n",
    "X_train, X_test, y_train, y_test = train_test_split(X, y, test_size=0.3, random_state=42)\n",
    "\n",
    "vectorizer = CountVectorizer()\n",
    "X_train_vectors = vectorizer.fit_transform(X_train)\n",
    "X_test_vectors = vectorizer.transform(X_test)\n",
    "\n",
    "model = MultinomialNB()\n",
    "model.fit(X_train_vectors, y_train)\n",
    "\n",
    "y_pred = model.predict(X_test_vectors)\n",
    "\n",
    "accuracy = accuracy_score(y_test, y_pred)\n",
    "print(f\"Accuracy: {accuracy * 100:.2f}%\\n\")\n",
    "\n",
    "custom_message = [\"Congratulations, you've won a free vacation\"]\n",
    "custom_vector = vectorizer.transform(custom_message)\n",
    "prediction = model.predict(custom_vector)\n",
    "print(\"Prediction for custom message:\", \"Spam\" if prediction[0] == 1 else \"Not Spam\")"
   ]
  },
  {
   "cell_type": "code",
   "execution_count": null,
   "metadata": {},
   "outputs": [],
   "source": []
  }
 ],
 "metadata": {
  "kernelspec": {
   "display_name": "base",
   "language": "python",
   "name": "python3"
  },
  "language_info": {
   "codemirror_mode": {
    "name": "ipython",
    "version": 3
   },
   "file_extension": ".py",
   "mimetype": "text/x-python",
   "name": "python",
   "nbconvert_exporter": "python",
   "pygments_lexer": "ipython3",
   "version": "3.12.4"
  }
 },
 "nbformat": 4,
 "nbformat_minor": 2
}
