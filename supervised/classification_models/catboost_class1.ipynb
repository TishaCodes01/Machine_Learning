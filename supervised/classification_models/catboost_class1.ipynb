{
 "cells": [
  {
   "cell_type": "code",
   "execution_count": 1,
   "metadata": {},
   "outputs": [],
   "source": [
    "import pandas as pd "
   ]
  },
  {
   "cell_type": "code",
   "execution_count": 2,
   "metadata": {},
   "outputs": [],
   "source": [
    "dataset = pd.read_csv('Breast Cancer Detection Classification.csv')"
   ]
  },
  {
   "cell_type": "code",
   "execution_count": 3,
   "metadata": {},
   "outputs": [],
   "source": [
    "X = dataset.iloc[:, :-1].values\n",
    "y = dataset.iloc[:, -1].values"
   ]
  },
  {
   "cell_type": "code",
   "execution_count": 4,
   "metadata": {},
   "outputs": [],
   "source": [
    "from sklearn.model_selection import train_test_split\n",
    "X_train, X_test, y_train, y_test = train_test_split(X, y, test_size=0.2, random_state=21)"
   ]
  },
  {
   "cell_type": "code",
   "execution_count": 5,
   "metadata": {},
   "outputs": [
    {
     "name": "stdout",
     "output_type": "stream",
     "text": [
      "0:\tlearn: 0.6264910\ttotal: 157ms\tremaining: 15.5s\n",
      "1:\tlearn: 0.5702258\ttotal: 160ms\tremaining: 7.83s\n",
      "2:\tlearn: 0.5204004\ttotal: 163ms\tremaining: 5.27s\n",
      "3:\tlearn: 0.4790814\ttotal: 165ms\tremaining: 3.97s\n",
      "4:\tlearn: 0.4424231\ttotal: 168ms\tremaining: 3.19s\n",
      "5:\tlearn: 0.4074479\ttotal: 171ms\tremaining: 2.68s\n",
      "6:\tlearn: 0.3805398\ttotal: 175ms\tremaining: 2.32s\n",
      "7:\tlearn: 0.3581740\ttotal: 178ms\tremaining: 2.04s\n",
      "8:\tlearn: 0.3327184\ttotal: 180ms\tremaining: 1.82s\n",
      "9:\tlearn: 0.3122422\ttotal: 183ms\tremaining: 1.64s\n",
      "10:\tlearn: 0.2919322\ttotal: 185ms\tremaining: 1.5s\n",
      "11:\tlearn: 0.2746628\ttotal: 188ms\tremaining: 1.38s\n",
      "12:\tlearn: 0.2584352\ttotal: 191ms\tremaining: 1.28s\n",
      "13:\tlearn: 0.2442444\ttotal: 194ms\tremaining: 1.19s\n",
      "14:\tlearn: 0.2306918\ttotal: 197ms\tremaining: 1.11s\n",
      "15:\tlearn: 0.2184652\ttotal: 199ms\tremaining: 1.04s\n",
      "16:\tlearn: 0.2085594\ttotal: 202ms\tremaining: 987ms\n",
      "17:\tlearn: 0.1987154\ttotal: 204ms\tremaining: 931ms\n",
      "18:\tlearn: 0.1899291\ttotal: 207ms\tremaining: 881ms\n",
      "19:\tlearn: 0.1807500\ttotal: 210ms\tremaining: 839ms\n",
      "20:\tlearn: 0.1737522\ttotal: 213ms\tremaining: 801ms\n",
      "21:\tlearn: 0.1646959\ttotal: 216ms\tremaining: 766ms\n",
      "22:\tlearn: 0.1586070\ttotal: 219ms\tremaining: 732ms\n",
      "23:\tlearn: 0.1531096\ttotal: 221ms\tremaining: 700ms\n",
      "24:\tlearn: 0.1482749\ttotal: 224ms\tremaining: 671ms\n",
      "25:\tlearn: 0.1426576\ttotal: 227ms\tremaining: 645ms\n",
      "26:\tlearn: 0.1381255\ttotal: 229ms\tremaining: 619ms\n",
      "27:\tlearn: 0.1339952\ttotal: 231ms\tremaining: 595ms\n",
      "28:\tlearn: 0.1298438\ttotal: 234ms\tremaining: 574ms\n",
      "29:\tlearn: 0.1264989\ttotal: 237ms\tremaining: 552ms\n",
      "30:\tlearn: 0.1224740\ttotal: 239ms\tremaining: 532ms\n",
      "31:\tlearn: 0.1184557\ttotal: 243ms\tremaining: 515ms\n",
      "32:\tlearn: 0.1149174\ttotal: 245ms\tremaining: 497ms\n",
      "33:\tlearn: 0.1110863\ttotal: 247ms\tremaining: 480ms\n",
      "34:\tlearn: 0.1084374\ttotal: 250ms\tremaining: 464ms\n",
      "35:\tlearn: 0.1059157\ttotal: 252ms\tremaining: 449ms\n",
      "36:\tlearn: 0.1033480\ttotal: 255ms\tremaining: 435ms\n",
      "37:\tlearn: 0.1009119\ttotal: 258ms\tremaining: 422ms\n",
      "38:\tlearn: 0.0982789\ttotal: 261ms\tremaining: 408ms\n",
      "39:\tlearn: 0.0956136\ttotal: 263ms\tremaining: 395ms\n",
      "40:\tlearn: 0.0928798\ttotal: 266ms\tremaining: 383ms\n",
      "41:\tlearn: 0.0908199\ttotal: 269ms\tremaining: 372ms\n",
      "42:\tlearn: 0.0890315\ttotal: 272ms\tremaining: 361ms\n",
      "43:\tlearn: 0.0872371\ttotal: 276ms\tremaining: 351ms\n",
      "44:\tlearn: 0.0849321\ttotal: 278ms\tremaining: 340ms\n",
      "45:\tlearn: 0.0831019\ttotal: 280ms\tremaining: 329ms\n",
      "46:\tlearn: 0.0813628\ttotal: 283ms\tremaining: 319ms\n",
      "47:\tlearn: 0.0795543\ttotal: 286ms\tremaining: 309ms\n",
      "48:\tlearn: 0.0781290\ttotal: 288ms\tremaining: 300ms\n",
      "49:\tlearn: 0.0766397\ttotal: 291ms\tremaining: 291ms\n",
      "50:\tlearn: 0.0748197\ttotal: 293ms\tremaining: 281ms\n",
      "51:\tlearn: 0.0734208\ttotal: 295ms\tremaining: 272ms\n",
      "52:\tlearn: 0.0730870\ttotal: 298ms\tremaining: 264ms\n",
      "53:\tlearn: 0.0716408\ttotal: 300ms\tremaining: 256ms\n",
      "54:\tlearn: 0.0706297\ttotal: 302ms\tremaining: 247ms\n",
      "55:\tlearn: 0.0693369\ttotal: 305ms\tremaining: 240ms\n",
      "56:\tlearn: 0.0681526\ttotal: 307ms\tremaining: 232ms\n",
      "57:\tlearn: 0.0671144\ttotal: 310ms\tremaining: 224ms\n",
      "58:\tlearn: 0.0659899\ttotal: 312ms\tremaining: 217ms\n",
      "59:\tlearn: 0.0645379\ttotal: 314ms\tremaining: 210ms\n",
      "60:\tlearn: 0.0637129\ttotal: 317ms\tremaining: 203ms\n",
      "61:\tlearn: 0.0629129\ttotal: 320ms\tremaining: 196ms\n",
      "62:\tlearn: 0.0617762\ttotal: 323ms\tremaining: 190ms\n",
      "63:\tlearn: 0.0607828\ttotal: 325ms\tremaining: 183ms\n",
      "64:\tlearn: 0.0595967\ttotal: 328ms\tremaining: 176ms\n",
      "65:\tlearn: 0.0585084\ttotal: 331ms\tremaining: 170ms\n",
      "66:\tlearn: 0.0575875\ttotal: 333ms\tremaining: 164ms\n",
      "67:\tlearn: 0.0568381\ttotal: 336ms\tremaining: 158ms\n",
      "68:\tlearn: 0.0565922\ttotal: 338ms\tremaining: 152ms\n",
      "69:\tlearn: 0.0556475\ttotal: 340ms\tremaining: 146ms\n",
      "70:\tlearn: 0.0548962\ttotal: 343ms\tremaining: 140ms\n",
      "71:\tlearn: 0.0538622\ttotal: 345ms\tremaining: 134ms\n",
      "72:\tlearn: 0.0528915\ttotal: 348ms\tremaining: 129ms\n",
      "73:\tlearn: 0.0521952\ttotal: 352ms\tremaining: 124ms\n",
      "74:\tlearn: 0.0515149\ttotal: 355ms\tremaining: 118ms\n",
      "75:\tlearn: 0.0509229\ttotal: 357ms\tremaining: 113ms\n",
      "76:\tlearn: 0.0502199\ttotal: 359ms\tremaining: 107ms\n",
      "77:\tlearn: 0.0495287\ttotal: 363ms\tremaining: 102ms\n",
      "78:\tlearn: 0.0490357\ttotal: 366ms\tremaining: 97.4ms\n",
      "79:\tlearn: 0.0482126\ttotal: 369ms\tremaining: 92.3ms\n",
      "80:\tlearn: 0.0474458\ttotal: 372ms\tremaining: 87.3ms\n",
      "81:\tlearn: 0.0469591\ttotal: 376ms\tremaining: 82.4ms\n",
      "82:\tlearn: 0.0461686\ttotal: 380ms\tremaining: 77.7ms\n",
      "83:\tlearn: 0.0452935\ttotal: 383ms\tremaining: 73ms\n",
      "84:\tlearn: 0.0447617\ttotal: 388ms\tremaining: 68.4ms\n",
      "85:\tlearn: 0.0440310\ttotal: 391ms\tremaining: 63.7ms\n",
      "86:\tlearn: 0.0435876\ttotal: 395ms\tremaining: 59ms\n",
      "87:\tlearn: 0.0428928\ttotal: 398ms\tremaining: 54.3ms\n",
      "88:\tlearn: 0.0425148\ttotal: 402ms\tremaining: 49.7ms\n",
      "89:\tlearn: 0.0420144\ttotal: 406ms\tremaining: 45.1ms\n",
      "90:\tlearn: 0.0418244\ttotal: 409ms\tremaining: 40.4ms\n",
      "91:\tlearn: 0.0415816\ttotal: 412ms\tremaining: 35.9ms\n",
      "92:\tlearn: 0.0408946\ttotal: 417ms\tremaining: 31.4ms\n",
      "93:\tlearn: 0.0401966\ttotal: 420ms\tremaining: 26.8ms\n",
      "94:\tlearn: 0.0397656\ttotal: 423ms\tremaining: 22.3ms\n",
      "95:\tlearn: 0.0394316\ttotal: 427ms\tremaining: 17.8ms\n",
      "96:\tlearn: 0.0389511\ttotal: 431ms\tremaining: 13.3ms\n",
      "97:\tlearn: 0.0381888\ttotal: 435ms\tremaining: 8.87ms\n",
      "98:\tlearn: 0.0378005\ttotal: 438ms\tremaining: 4.43ms\n",
      "99:\tlearn: 0.0373050\ttotal: 442ms\tremaining: 0us\n"
     ]
    },
    {
     "data": {
      "text/plain": [
       "<catboost.core.CatBoostClassifier at 0x1e1fbf27530>"
      ]
     },
     "execution_count": 5,
     "metadata": {},
     "output_type": "execute_result"
    }
   ],
   "source": [
    "from catboost import CatBoostClassifier\n",
    "classifier = CatBoostClassifier(iterations=100, depth=6, learning_rate=0.1, loss_function='MultiClass', random_state=21)\n",
    "classifier.fit(X_train, y_train)"
   ]
  },
  {
   "cell_type": "code",
   "execution_count": 6,
   "metadata": {},
   "outputs": [],
   "source": [
    "y_pred = classifier.predict(X_test)"
   ]
  },
  {
   "cell_type": "code",
   "execution_count": 7,
   "metadata": {},
   "outputs": [
    {
     "name": "stdout",
     "output_type": "stream",
     "text": [
      "[[74  1]\n",
      " [ 2 37]]\n",
      "Accuracy Score 0.9736842105263158\n"
     ]
    }
   ],
   "source": [
    "from sklearn.metrics import confusion_matrix, accuracy_score\n",
    "cm = confusion_matrix(y_test, y_pred)\n",
    "print(cm)\n",
    "score = accuracy_score(y_test, y_pred)\n",
    "print(f'Accuracy Score {score}')"
   ]
  },
  {
   "cell_type": "code",
   "execution_count": null,
   "metadata": {},
   "outputs": [],
   "source": []
  }
 ],
 "metadata": {
  "kernelspec": {
   "display_name": "base",
   "language": "python",
   "name": "python3"
  },
  "language_info": {
   "codemirror_mode": {
    "name": "ipython",
    "version": 3
   },
   "file_extension": ".py",
   "mimetype": "text/x-python",
   "name": "python",
   "nbconvert_exporter": "python",
   "pygments_lexer": "ipython3",
   "version": "3.12.4"
  }
 },
 "nbformat": 4,
 "nbformat_minor": 2
}
