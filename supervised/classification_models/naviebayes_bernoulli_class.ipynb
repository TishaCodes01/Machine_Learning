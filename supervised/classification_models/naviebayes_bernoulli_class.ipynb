{
 "cells": [
  {
   "cell_type": "code",
   "execution_count": 6,
   "metadata": {},
   "outputs": [
    {
     "name": "stdout",
     "output_type": "stream",
     "text": [
      "Accuracy: 50.00%\n",
      "\n",
      "Prediction for custom message: Advertisement\n"
     ]
    }
   ],
   "source": [
    "from sklearn.feature_extraction.text import CountVectorizer\n",
    "from sklearn.model_selection import train_test_split\n",
    "from sklearn.naive_bayes import BernoulliNB\n",
    "from sklearn.metrics import accuracy_score\n",
    "\n",
    "# Example dataset\n",
    "documents = { 'text': [\n",
    "    \"Buy cheap medicines\", \"Discount on electronics\", \n",
    "    \"How to cook pasta\", \"Cheap airline tickets\", \"Learn programming\"\n",
    "],\n",
    "'labels' : [1, 1, 0, 1, 0]  # 1: Advertisement, 0: Informative\n",
    "}\n",
    "\n",
    "X = documents['text']\n",
    "y = documents['labels']\n",
    "\n",
    "X_train, X_test, y_train, y_test = train_test_split(X, y, test_size=0.3, random_state=42)\n",
    "\n",
    "vectorizer = CountVectorizer()\n",
    "X_train_vectors = vectorizer.fit_transform(X_train)\n",
    "X_test_vectors = vectorizer.transform(X_test)\n",
    "\n",
    "model = BernoulliNB()\n",
    "model.fit(X_train_vectors, y_train)\n",
    "\n",
    "y_pred = model.predict(X_test_vectors)\n",
    "\n",
    "accuracy = accuracy_score(y_test, y_pred)\n",
    "print(f\"Accuracy: {accuracy * 100:.2f}%\\n\")\n",
    "\n",
    "custom_message = [\"grab offer at any clothing\"]\n",
    "custom_vector = vectorizer.transform(custom_message)\n",
    "prediction = model.predict(custom_vector)\n",
    "print(\"Prediction for custom message:\", \"Advertisement\" if prediction[0] == 1 else \"Informative\")\n"
   ]
  },
  {
   "cell_type": "code",
   "execution_count": null,
   "metadata": {},
   "outputs": [],
   "source": []
  }
 ],
 "metadata": {
  "kernelspec": {
   "display_name": "base",
   "language": "python",
   "name": "python3"
  },
  "language_info": {
   "codemirror_mode": {
    "name": "ipython",
    "version": 3
   },
   "file_extension": ".py",
   "mimetype": "text/x-python",
   "name": "python",
   "nbconvert_exporter": "python",
   "pygments_lexer": "ipython3",
   "version": "3.12.4"
  }
 },
 "nbformat": 4,
 "nbformat_minor": 2
}
